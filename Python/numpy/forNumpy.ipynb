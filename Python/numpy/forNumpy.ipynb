{
 "cells": [
  {
   "cell_type": "code",
   "execution_count": 6,
   "metadata": {},
   "outputs": [],
   "source": [
    "import numpy as np\n",
    "import pandas as pd"
   ]
  },
  {
   "cell_type": "code",
   "execution_count": 7,
   "metadata": {},
   "outputs": [
    {
     "name": "stdout",
     "output_type": "stream",
     "text": [
      "    0   1   2   3\n",
      "0  79  60  50  31\n",
      "1  25   8   6   3\n",
      "2  28  28  26  17\n",
      "3  28  28  25  23\n",
      "4  68  18  15  14\n"
     ]
    }
   ],
   "source": [
    "내과 = [79, 60, 50, 31]\n",
    "외과 = [25, 8, 6, 3]\n",
    "정형외과 = [28, 28, 26, 17] \n",
    "소아청소년과 = [28, 28, 25, 23] \n",
    "안과 = [68, 18, 15, 14]\n",
    "병원수 = np.array([내과, 외과, 정형외과, 소아청소년과, 안과]) \n",
    "df = pd.DataFrame(병원수)\n",
    "print(df)"
   ]
  }
 ],
 "metadata": {
  "interpreter": {
   "hash": "aee8b7b246df8f9039afb4144a1f6fd8d2ca17a180786b69acc140d282b71a49"
  },
  "kernelspec": {
   "display_name": "Python 3.9.10 64-bit",
   "language": "python",
   "name": "python3"
  },
  "language_info": {
   "codemirror_mode": {
    "name": "ipython",
    "version": 3
   },
   "file_extension": ".py",
   "mimetype": "text/x-python",
   "name": "python",
   "nbconvert_exporter": "python",
   "pygments_lexer": "ipython3",
   "version": "3.9.10"
  },
  "orig_nbformat": 4
 },
 "nbformat": 4,
 "nbformat_minor": 2
}
