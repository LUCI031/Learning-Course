{
 "cells": [
  {
   "cell_type": "code",
   "execution_count": 1,
   "metadata": {},
   "outputs": [],
   "source": [
    "import pandas as pd"
   ]
  },
  {
   "cell_type": "code",
   "execution_count": 3,
   "metadata": {},
   "outputs": [],
   "source": [
    "student_list = [{'name': 'John', 'major': \"Computer Science\", 'sex': \"male\"},\n",
    "                {'name': 'Nate', 'major': \"Computer Science\", 'sex': \"male\"},\n",
    "                {'name': 'Abraham', 'major': \"Physics\", 'sex': \"male\"},\n",
    "                {'name': 'Brian', 'major': \"Psychology\", 'sex': \"male\"},\n",
    "                {'name': 'Janny', 'major': \"Economics\", 'sex': \"female\"},\n",
    "                {'name': 'Yuna', 'major': \"Economics\", 'sex': \"female\"},\n",
    "                {'name': 'Jeniffer', 'major': \"Computer Science\", 'sex': \"female\"},\n",
    "                {'name': 'Edward', 'major': \"Computer Science\", 'sex': \"male\"},\n",
    "                {'name': 'Zara', 'major': \"Psychology\", 'sex': \"female\"},\n",
    "                {'name': 'Wendy', 'major': \"Economics\", 'sex': \"female\"},\n",
    "                {'name': 'Sera', 'major': \"Psychology\", 'sex': \"female\"}\n",
    "         ]\n",
    "df = pd.DataFrame(student_list, columns = ['name', 'major', 'sex'])"
   ]
  },
  {
   "cell_type": "code",
   "execution_count": 4,
   "metadata": {},
   "outputs": [],
   "source": [
    "groupby_major = df.groupby('major')"
   ]
  },
  {
   "cell_type": "code",
   "execution_count": 11,
   "metadata": {},
   "outputs": [
    {
     "data": {
      "text/html": [
       "<div>\n",
       "<style scoped>\n",
       "    .dataframe tbody tr th:only-of-type {\n",
       "        vertical-align: middle;\n",
       "    }\n",
       "\n",
       "    .dataframe tbody tr th {\n",
       "        vertical-align: top;\n",
       "    }\n",
       "\n",
       "    .dataframe thead th {\n",
       "        text-align: right;\n",
       "    }\n",
       "</style>\n",
       "<table border=\"1\" class=\"dataframe\">\n",
       "  <thead>\n",
       "    <tr style=\"text-align: right;\">\n",
       "      <th></th>\n",
       "      <th>major</th>\n",
       "      <th>count</th>\n",
       "    </tr>\n",
       "  </thead>\n",
       "  <tbody>\n",
       "    <tr>\n",
       "      <th>0</th>\n",
       "      <td>Computer Science</td>\n",
       "      <td>4</td>\n",
       "    </tr>\n",
       "    <tr>\n",
       "      <th>1</th>\n",
       "      <td>Economics</td>\n",
       "      <td>3</td>\n",
       "    </tr>\n",
       "    <tr>\n",
       "      <th>2</th>\n",
       "      <td>Physics</td>\n",
       "      <td>1</td>\n",
       "    </tr>\n",
       "    <tr>\n",
       "      <th>3</th>\n",
       "      <td>Psychology</td>\n",
       "      <td>3</td>\n",
       "    </tr>\n",
       "  </tbody>\n",
       "</table>\n",
       "</div>"
      ],
      "text/plain": [
       "              major  count\n",
       "0  Computer Science      4\n",
       "1         Economics      3\n",
       "2           Physics      1\n",
       "3        Psychology      3"
      ]
     },
     "execution_count": 11,
     "metadata": {},
     "output_type": "execute_result"
    }
   ],
   "source": [
    "df_major_cnt = pd.DataFrame( {'count' : groupby_major.size()}).reset_index()\n",
    "df_major_cnt"
   ]
  }
 ],
 "metadata": {
  "interpreter": {
   "hash": "aee8b7b246df8f9039afb4144a1f6fd8d2ca17a180786b69acc140d282b71a49"
  },
  "kernelspec": {
   "display_name": "Python 3.9.10 64-bit",
   "language": "python",
   "name": "python3"
  },
  "language_info": {
   "codemirror_mode": {
    "name": "ipython",
    "version": 3
   },
   "file_extension": ".py",
   "mimetype": "text/x-python",
   "name": "python",
   "nbconvert_exporter": "python",
   "pygments_lexer": "ipython3",
   "version": "3.9.10"
  },
  "orig_nbformat": 4
 },
 "nbformat": 4,
 "nbformat_minor": 2
}
